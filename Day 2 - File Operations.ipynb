{
 "cells": [
  {
   "cell_type": "code",
   "execution_count": 151,
   "metadata": {},
   "outputs": [
    {
     "data": {
      "text/plain": [
       "'D:\\\\Python Training\\\\ML\\\\Dataset'"
      ]
     },
     "execution_count": 151,
     "metadata": {},
     "output_type": "execute_result"
    }
   ],
   "source": [
    "import os\n",
    "os.getcwd()\n",
    "os.chdir(r'D:\\Python Training\\ML\\Dataset') # r - raw\n",
    "os.getcwd()"
   ]
  },
  {
   "cell_type": "code",
   "execution_count": 11,
   "metadata": {},
   "outputs": [],
   "source": [
    "filelist = os.listdir()\n",
    "filelist\n",
    "for filename in filelist:\n",
    "    x = filename.endswith('.csv')\n",
    "    y = filename.startswith('bos')\n",
    "    print(filename,x,y)"
   ]
  },
  {
   "cell_type": "code",
   "execution_count": 40,
   "metadata": {},
   "outputs": [],
   "source": [
    "f = open('mtcars.csv','r')\n",
    "filecontent1 = f.read() # Read the entire file into 1 huge string\n",
    "filecontent2 = f.read() # Will try to read the entire file into 1 huge string \n",
    "                        #- but nothing to read as pointer is already at end\n",
    "f.close()"
   ]
  },
  {
   "cell_type": "code",
   "execution_count": 30,
   "metadata": {},
   "outputs": [],
   "source": [
    "f = open('mtcars.csv','r')\n",
    "filecontent1 = f.readline() # Read 1 line\n",
    "filecontent2 = f.readline() # Read next line\n",
    "filecontent3 = f.readline() # Read next line\n",
    "#......\n",
    "f.close()"
   ]
  },
  {
   "cell_type": "code",
   "execution_count": 38,
   "metadata": {},
   "outputs": [
    {
     "name": "stdout",
     "output_type": "stream",
     "text": [
      "Mazda RX4,21,6,160,110,3.9,2.62,16.46,0,1,4,4\n",
      "\n",
      "Mazda RX4 Wag,21,6,160,110,3.9,2.875,17.02,0,1,4,4\n",
      "\n"
     ]
    }
   ],
   "source": [
    "f = open('mtcars.csv','r')\n",
    "for line in f:\n",
    "    # print all Mazda Car Details\n",
    "    if (line.startswith('Maz')):\n",
    "        print(line)\n",
    "    \n",
    "f.close()"
   ]
  },
  {
   "cell_type": "code",
   "execution_count": 73,
   "metadata": {},
   "outputs": [
    {
     "name": "stdout",
     "output_type": "stream",
     "text": [
      "<class 'list'> ['CarName', 'mpg', 'cyl', 'disp', 'hp', 'drat', 'wt', 'qsec', 'vs', 'am', 'gear', 'carb\\n'] --hp---- hp\n",
      "<class 'list'> ['Mazda RX4', '21', '6', '160', '110', '3.9', '2.62', '16.46', '0', '1', '4', '4\\n'] --hp---- 110\n",
      "<class 'list'> ['Mazda RX4 Wag', '21', '6', '160', '110', '3.9', '2.875', '17.02', '0', '1', '4', '4\\n'] --hp---- 110\n",
      "<class 'list'> ['Datsun 710', '22.8', '4', '108', '93', '3.85', '2.32', '18.61', '1', '1', '4', '1\\n'] --hp---- 93\n",
      "<class 'list'> ['Hornet 4 Drive', '21.4', '6', '258', '110', '3.08', '3.215', '19.44', '1', '0', '3', '1\\n'] --hp---- 110\n",
      "<class 'list'> ['Hornet Sportabout', '18.7', '8', '360', '175', '3.15', '3.44', '17.02', '0', '0', '3', '2\\n'] --hp---- 175\n",
      "<class 'list'> ['Valiant', '18.1', '6', '225', '105', '2.76', '3.46', '20.22', '1', '0', '3', '1\\n'] --hp---- 105\n",
      "<class 'list'> ['Duster 360', '14.3', '8', '360', '245', '3.21', '3.57', '15.84', '0', '0', '3', '4\\n'] --hp---- 245\n",
      "<class 'list'> ['Merc 240D', '24.4', '4', '146.7', '62', '3.69', '3.19', '20', '1', '0', '4', '2\\n'] --hp---- 62\n",
      "<class 'list'> ['Merc 230', '22.8', '4', '140.8', '95', '3.92', '3.15', '22.9', '1', '0', '4', '2\\n'] --hp---- 95\n",
      "<class 'list'> ['Merc 280', '19.2', '6', '167.6', '123', '3.92', '3.44', '18.3', '1', '0', '4', '4\\n'] --hp---- 123\n",
      "<class 'list'> ['Merc 280C', '17.8', '6', '167.6', '123', '3.92', '3.44', '18.9', '1', '0', '4', '4\\n'] --hp---- 123\n",
      "<class 'list'> ['Merc 450SE', '16.4', '8', '275.8', '180', '3.07', '4.07', '17.4', '0', '0', '3', '3\\n'] --hp---- 180\n",
      "<class 'list'> ['Merc 450SL', '17.3', '8', '275.8', '180', '3.07', '3.73', '17.6', '0', '0', '3', '3\\n'] --hp---- 180\n",
      "<class 'list'> ['Merc 450SLC', '15.2', '8', '275.8', '180', '3.07', '3.78', '18', '0', '0', '3', '3\\n'] --hp---- 180\n",
      "<class 'list'> ['Cadillac Fleetwood', '10.4', '8', '472', '205', '2.93', '5.25', '17.98', '0', '0', '3', '4\\n'] --hp---- 205\n",
      "<class 'list'> ['Lincoln Continental', '10.4', '8', '460', '215', '3', '5.424', '17.82', '0', '0', '3', '4\\n'] --hp---- 215\n",
      "<class 'list'> ['Chrysler Imperial', '14.7', '8', '440', '230', '3.23', '5.345', '17.42', '0', '0', '3', '4\\n'] --hp---- 230\n",
      "<class 'list'> ['Fiat 128', '32.4', '4', '78.7', '66', '4.08', '2.2', '19.47', '1', '1', '4', '1\\n'] --hp---- 66\n",
      "<class 'list'> ['Honda Civic', '30.4', '4', '75.7', '52', '4.93', '1.615', '18.52', '1', '1', '4', '2\\n'] --hp---- 52\n",
      "<class 'list'> ['Toyota Corolla', '33.9', '4', '71.1', '65', '4.22', '1.835', '19.9', '1', '1', '4', '1\\n'] --hp---- 65\n",
      "<class 'list'> ['Toyota Corona', '21.5', '4', '120.1', '97', '3.7', '2.465', '20.01', '1', '0', '3', '1\\n'] --hp---- 97\n",
      "<class 'list'> ['Dodge Challenger', '15.5', '8', '318', '150', '2.76', '3.52', '16.87', '0', '0', '3', '2\\n'] --hp---- 150\n",
      "<class 'list'> ['AMC Javelin', '15.2', '8', '304', '150', '3.15', '3.435', '17.3', '0', '0', '3', '2\\n'] --hp---- 150\n",
      "<class 'list'> ['Camaro Z28', '13.3', '8', '350', '245', '3.73', '3.84', '15.41', '0', '0', '3', '4\\n'] --hp---- 245\n",
      "<class 'list'> ['Pontiac Firebird', '19.2', '8', '400', '175', '3.08', '3.845', '17.05', '0', '0', '3', '2\\n'] --hp---- 175\n",
      "<class 'list'> ['Fiat X1-9', '27.3', '4', '79', '66', '4.08', '1.935', '18.9', '1', '1', '4', '1\\n'] --hp---- 66\n",
      "<class 'list'> ['Porsche 914-2', '26', '4', '120.3', '91', '4.43', '2.14', '16.7', '0', '1', '5', '2\\n'] --hp---- 91\n",
      "<class 'list'> ['Lotus Europa', '30.4', '4', '95.1', '113', '3.77', '1.513', '16.9', '1', '1', '5', '2\\n'] --hp---- 113\n",
      "<class 'list'> ['Ford Pantera L', '15.8', '8', '351', '264', '4.22', '3.17', '14.5', '0', '1', '5', '4\\n'] --hp---- 264\n",
      "<class 'list'> ['Ferrari Dino', '19.7', '6', '145', '175', '3.62', '2.77', '15.5', '0', '1', '5', '6\\n'] --hp---- 175\n",
      "<class 'list'> ['Maserati Bora', '15', '8', '301', '335', '3.54', '3.57', '14.6', '0', '1', '5', '8\\n'] --hp---- 335\n",
      "<class 'list'> ['Volvo 142E', '21.4', '4', '121', '109', '4.11', '2.78', '18.6', '1', '1', '4', '2\\n'] --hp---- 109\n"
     ]
    }
   ],
   "source": [
    "f = open('mtcars.csv','r')\n",
    "fout = open('hpgreater200.csv','w')\n",
    "\n",
    "for line in f:\n",
    "    #print(type(line),line)\n",
    "    recordlist = line.split(',')\n",
    "    print(type(recordlist),recordlist,\"--hp----\",recordlist[4])\n",
    "    \n",
    "    if (recordlist[4]=='hp'):   # This is a header, simply write it\n",
    "        outline = ','.join(recordlist)\n",
    "        fout.write(outline)\n",
    "    else:     # Not a header, check the value > 200 before writing it\n",
    "        if (int(recordlist[4]) > 200):\n",
    "            outline = ','.join(recordlist)\n",
    "            fout.write(outline)\n",
    "\n",
    "f.close()\n",
    "fout.close()"
   ]
  },
  {
   "cell_type": "code",
   "execution_count": 78,
   "metadata": {},
   "outputs": [
    {
     "name": "stdout",
     "output_type": "stream",
     "text": [
      "This is my first line\n",
      "This is my second line\n"
     ]
    }
   ],
   "source": [
    "fout = open('outputmtcars.csv','w')\n",
    "\n",
    "data = ['This is my first line','This is my second line']\n",
    "\n",
    "for line in data:\n",
    "    print(line)\n",
    "    fout.write(line+'\\n')\n",
    "\n",
    "fout.close()"
   ]
  },
  {
   "cell_type": "code",
   "execution_count": 57,
   "metadata": {},
   "outputs": [
    {
     "name": "stdout",
     "output_type": "stream",
     "text": [
      "mtcars,abc,def,ghi\n",
      "['mtcars', 'abc', 'def', 'ghi']\n",
      "mtcars,abc,def,ghi\n"
     ]
    }
   ],
   "source": [
    "x = \"mtcars,abc,def,ghi\"\n",
    "print(x)\n",
    "y = x.split(',')\n",
    "print(y)\n",
    "print ( ','.join(y)     )"
   ]
  },
  {
   "cell_type": "code",
   "execution_count": 72,
   "metadata": {},
   "outputs": [
    {
     "name": "stdout",
     "output_type": "stream",
     "text": [
      "123\n",
      "123 <class 'str'> 123 <class 'int'>\n"
     ]
    }
   ],
   "source": [
    "x = '123'\n",
    "print(x)\n",
    "y = int(x)\n",
    "print(x,type(x),y, type(y))"
   ]
  },
  {
   "cell_type": "code",
   "execution_count": 79,
   "metadata": {},
   "outputs": [],
   "source": [
    "import pandas as pd"
   ]
  },
  {
   "cell_type": "code",
   "execution_count": null,
   "metadata": {},
   "outputs": [],
   "source": [
    "##### pip install pandas "
   ]
  },
  {
   "cell_type": "code",
   "execution_count": 89,
   "metadata": {},
   "outputs": [
    {
     "name": "stdout",
     "output_type": "stream",
     "text": [
      "<class 'pandas.core.frame.DataFrame'>\n"
     ]
    }
   ],
   "source": [
    "infile = pd.read_csv('mtcars.csv')\n",
    "print( type(infile) )\n",
    "# indexes - row header\n",
    "# columns - col header"
   ]
  },
  {
   "cell_type": "code",
   "execution_count": 90,
   "metadata": {},
   "outputs": [
    {
     "data": {
      "text/html": [
       "<div>\n",
       "<style scoped>\n",
       "    .dataframe tbody tr th:only-of-type {\n",
       "        vertical-align: middle;\n",
       "    }\n",
       "\n",
       "    .dataframe tbody tr th {\n",
       "        vertical-align: top;\n",
       "    }\n",
       "\n",
       "    .dataframe thead th {\n",
       "        text-align: right;\n",
       "    }\n",
       "</style>\n",
       "<table border=\"1\" class=\"dataframe\">\n",
       "  <thead>\n",
       "    <tr style=\"text-align: right;\">\n",
       "      <th></th>\n",
       "      <th>CarName</th>\n",
       "      <th>mpg</th>\n",
       "      <th>cyl</th>\n",
       "      <th>disp</th>\n",
       "      <th>hp</th>\n",
       "      <th>drat</th>\n",
       "      <th>wt</th>\n",
       "      <th>qsec</th>\n",
       "      <th>vs</th>\n",
       "      <th>am</th>\n",
       "      <th>gear</th>\n",
       "      <th>carb</th>\n",
       "    </tr>\n",
       "  </thead>\n",
       "  <tbody>\n",
       "    <tr>\n",
       "      <th>0</th>\n",
       "      <td>Mazda RX4</td>\n",
       "      <td>21.0</td>\n",
       "      <td>6</td>\n",
       "      <td>160.0</td>\n",
       "      <td>110</td>\n",
       "      <td>3.9</td>\n",
       "      <td>2.62</td>\n",
       "      <td>16.46</td>\n",
       "      <td>0</td>\n",
       "      <td>1</td>\n",
       "      <td>4</td>\n",
       "      <td>4</td>\n",
       "    </tr>\n",
       "  </tbody>\n",
       "</table>\n",
       "</div>"
      ],
      "text/plain": [
       "     CarName   mpg  cyl   disp   hp  drat    wt   qsec  vs  am  gear  carb\n",
       "0  Mazda RX4  21.0    6  160.0  110   3.9  2.62  16.46   0   1     4     4"
      ]
     },
     "execution_count": 90,
     "metadata": {},
     "output_type": "execute_result"
    }
   ],
   "source": [
    "infile.head(1)"
   ]
  },
  {
   "cell_type": "code",
   "execution_count": 91,
   "metadata": {},
   "outputs": [
    {
     "data": {
      "text/html": [
       "<div>\n",
       "<style scoped>\n",
       "    .dataframe tbody tr th:only-of-type {\n",
       "        vertical-align: middle;\n",
       "    }\n",
       "\n",
       "    .dataframe tbody tr th {\n",
       "        vertical-align: top;\n",
       "    }\n",
       "\n",
       "    .dataframe thead th {\n",
       "        text-align: right;\n",
       "    }\n",
       "</style>\n",
       "<table border=\"1\" class=\"dataframe\">\n",
       "  <thead>\n",
       "    <tr style=\"text-align: right;\">\n",
       "      <th></th>\n",
       "      <th>CarName</th>\n",
       "      <th>mpg</th>\n",
       "      <th>cyl</th>\n",
       "      <th>disp</th>\n",
       "      <th>hp</th>\n",
       "      <th>drat</th>\n",
       "      <th>wt</th>\n",
       "      <th>qsec</th>\n",
       "      <th>vs</th>\n",
       "      <th>am</th>\n",
       "      <th>gear</th>\n",
       "      <th>carb</th>\n",
       "    </tr>\n",
       "  </thead>\n",
       "  <tbody>\n",
       "    <tr>\n",
       "      <th>31</th>\n",
       "      <td>Volvo 142E</td>\n",
       "      <td>21.4</td>\n",
       "      <td>4</td>\n",
       "      <td>121.0</td>\n",
       "      <td>109</td>\n",
       "      <td>4.11</td>\n",
       "      <td>2.78</td>\n",
       "      <td>18.6</td>\n",
       "      <td>1</td>\n",
       "      <td>1</td>\n",
       "      <td>4</td>\n",
       "      <td>2</td>\n",
       "    </tr>\n",
       "  </tbody>\n",
       "</table>\n",
       "</div>"
      ],
      "text/plain": [
       "       CarName   mpg  cyl   disp   hp  drat    wt  qsec  vs  am  gear  carb\n",
       "31  Volvo 142E  21.4    4  121.0  109  4.11  2.78  18.6   1   1     4     2"
      ]
     },
     "execution_count": 91,
     "metadata": {},
     "output_type": "execute_result"
    }
   ],
   "source": [
    "infile.tail(1)"
   ]
  },
  {
   "cell_type": "code",
   "execution_count": 87,
   "metadata": {},
   "outputs": [
    {
     "data": {
      "text/plain": [
       "(32, 12)"
      ]
     },
     "execution_count": 87,
     "metadata": {},
     "output_type": "execute_result"
    }
   ],
   "source": [
    "infile.shape # shape is a property or a variable and not a method  - notice () is missing"
   ]
  },
  {
   "cell_type": "code",
   "execution_count": 92,
   "metadata": {},
   "outputs": [
    {
     "name": "stdout",
     "output_type": "stream",
     "text": [
      "<class 'pandas.core.frame.DataFrame'>\n",
      "RangeIndex: 32 entries, 0 to 31\n",
      "Data columns (total 12 columns):\n",
      " #   Column   Non-Null Count  Dtype  \n",
      "---  ------   --------------  -----  \n",
      " 0   CarName  32 non-null     object \n",
      " 1   mpg      32 non-null     float64\n",
      " 2   cyl      32 non-null     int64  \n",
      " 3   disp     32 non-null     float64\n",
      " 4   hp       32 non-null     int64  \n",
      " 5   drat     32 non-null     float64\n",
      " 6   wt       32 non-null     float64\n",
      " 7   qsec     32 non-null     float64\n",
      " 8   vs       32 non-null     int64  \n",
      " 9   am       32 non-null     int64  \n",
      " 10  gear     32 non-null     int64  \n",
      " 11  carb     32 non-null     int64  \n",
      "dtypes: float64(5), int64(6), object(1)\n",
      "memory usage: 3.1+ KB\n"
     ]
    }
   ],
   "source": [
    "infile.info()"
   ]
  },
  {
   "cell_type": "code",
   "execution_count": 93,
   "metadata": {},
   "outputs": [
    {
     "data": {
      "text/html": [
       "<div>\n",
       "<style scoped>\n",
       "    .dataframe tbody tr th:only-of-type {\n",
       "        vertical-align: middle;\n",
       "    }\n",
       "\n",
       "    .dataframe tbody tr th {\n",
       "        vertical-align: top;\n",
       "    }\n",
       "\n",
       "    .dataframe thead th {\n",
       "        text-align: right;\n",
       "    }\n",
       "</style>\n",
       "<table border=\"1\" class=\"dataframe\">\n",
       "  <thead>\n",
       "    <tr style=\"text-align: right;\">\n",
       "      <th></th>\n",
       "      <th>mpg</th>\n",
       "      <th>cyl</th>\n",
       "      <th>disp</th>\n",
       "      <th>hp</th>\n",
       "      <th>drat</th>\n",
       "      <th>wt</th>\n",
       "      <th>qsec</th>\n",
       "      <th>vs</th>\n",
       "      <th>am</th>\n",
       "      <th>gear</th>\n",
       "      <th>carb</th>\n",
       "    </tr>\n",
       "  </thead>\n",
       "  <tbody>\n",
       "    <tr>\n",
       "      <th>count</th>\n",
       "      <td>32.000000</td>\n",
       "      <td>32.000000</td>\n",
       "      <td>32.000000</td>\n",
       "      <td>32.000000</td>\n",
       "      <td>32.000000</td>\n",
       "      <td>32.000000</td>\n",
       "      <td>32.000000</td>\n",
       "      <td>32.000000</td>\n",
       "      <td>32.000000</td>\n",
       "      <td>32.000000</td>\n",
       "      <td>32.0000</td>\n",
       "    </tr>\n",
       "    <tr>\n",
       "      <th>mean</th>\n",
       "      <td>20.090625</td>\n",
       "      <td>6.187500</td>\n",
       "      <td>230.721875</td>\n",
       "      <td>146.687500</td>\n",
       "      <td>3.596563</td>\n",
       "      <td>3.217250</td>\n",
       "      <td>17.848750</td>\n",
       "      <td>0.437500</td>\n",
       "      <td>0.406250</td>\n",
       "      <td>3.687500</td>\n",
       "      <td>2.8125</td>\n",
       "    </tr>\n",
       "    <tr>\n",
       "      <th>std</th>\n",
       "      <td>6.026948</td>\n",
       "      <td>1.785922</td>\n",
       "      <td>123.938694</td>\n",
       "      <td>68.562868</td>\n",
       "      <td>0.534679</td>\n",
       "      <td>0.978457</td>\n",
       "      <td>1.786943</td>\n",
       "      <td>0.504016</td>\n",
       "      <td>0.498991</td>\n",
       "      <td>0.737804</td>\n",
       "      <td>1.6152</td>\n",
       "    </tr>\n",
       "    <tr>\n",
       "      <th>min</th>\n",
       "      <td>10.400000</td>\n",
       "      <td>4.000000</td>\n",
       "      <td>71.100000</td>\n",
       "      <td>52.000000</td>\n",
       "      <td>2.760000</td>\n",
       "      <td>1.513000</td>\n",
       "      <td>14.500000</td>\n",
       "      <td>0.000000</td>\n",
       "      <td>0.000000</td>\n",
       "      <td>3.000000</td>\n",
       "      <td>1.0000</td>\n",
       "    </tr>\n",
       "    <tr>\n",
       "      <th>25%</th>\n",
       "      <td>15.425000</td>\n",
       "      <td>4.000000</td>\n",
       "      <td>120.825000</td>\n",
       "      <td>96.500000</td>\n",
       "      <td>3.080000</td>\n",
       "      <td>2.581250</td>\n",
       "      <td>16.892500</td>\n",
       "      <td>0.000000</td>\n",
       "      <td>0.000000</td>\n",
       "      <td>3.000000</td>\n",
       "      <td>2.0000</td>\n",
       "    </tr>\n",
       "    <tr>\n",
       "      <th>50%</th>\n",
       "      <td>19.200000</td>\n",
       "      <td>6.000000</td>\n",
       "      <td>196.300000</td>\n",
       "      <td>123.000000</td>\n",
       "      <td>3.695000</td>\n",
       "      <td>3.325000</td>\n",
       "      <td>17.710000</td>\n",
       "      <td>0.000000</td>\n",
       "      <td>0.000000</td>\n",
       "      <td>4.000000</td>\n",
       "      <td>2.0000</td>\n",
       "    </tr>\n",
       "    <tr>\n",
       "      <th>75%</th>\n",
       "      <td>22.800000</td>\n",
       "      <td>8.000000</td>\n",
       "      <td>326.000000</td>\n",
       "      <td>180.000000</td>\n",
       "      <td>3.920000</td>\n",
       "      <td>3.610000</td>\n",
       "      <td>18.900000</td>\n",
       "      <td>1.000000</td>\n",
       "      <td>1.000000</td>\n",
       "      <td>4.000000</td>\n",
       "      <td>4.0000</td>\n",
       "    </tr>\n",
       "    <tr>\n",
       "      <th>max</th>\n",
       "      <td>33.900000</td>\n",
       "      <td>8.000000</td>\n",
       "      <td>472.000000</td>\n",
       "      <td>335.000000</td>\n",
       "      <td>4.930000</td>\n",
       "      <td>5.424000</td>\n",
       "      <td>22.900000</td>\n",
       "      <td>1.000000</td>\n",
       "      <td>1.000000</td>\n",
       "      <td>5.000000</td>\n",
       "      <td>8.0000</td>\n",
       "    </tr>\n",
       "  </tbody>\n",
       "</table>\n",
       "</div>"
      ],
      "text/plain": [
       "             mpg        cyl        disp          hp       drat         wt  \\\n",
       "count  32.000000  32.000000   32.000000   32.000000  32.000000  32.000000   \n",
       "mean   20.090625   6.187500  230.721875  146.687500   3.596563   3.217250   \n",
       "std     6.026948   1.785922  123.938694   68.562868   0.534679   0.978457   \n",
       "min    10.400000   4.000000   71.100000   52.000000   2.760000   1.513000   \n",
       "25%    15.425000   4.000000  120.825000   96.500000   3.080000   2.581250   \n",
       "50%    19.200000   6.000000  196.300000  123.000000   3.695000   3.325000   \n",
       "75%    22.800000   8.000000  326.000000  180.000000   3.920000   3.610000   \n",
       "max    33.900000   8.000000  472.000000  335.000000   4.930000   5.424000   \n",
       "\n",
       "            qsec         vs         am       gear     carb  \n",
       "count  32.000000  32.000000  32.000000  32.000000  32.0000  \n",
       "mean   17.848750   0.437500   0.406250   3.687500   2.8125  \n",
       "std     1.786943   0.504016   0.498991   0.737804   1.6152  \n",
       "min    14.500000   0.000000   0.000000   3.000000   1.0000  \n",
       "25%    16.892500   0.000000   0.000000   3.000000   2.0000  \n",
       "50%    17.710000   0.000000   0.000000   4.000000   2.0000  \n",
       "75%    18.900000   1.000000   1.000000   4.000000   4.0000  \n",
       "max    22.900000   1.000000   1.000000   5.000000   8.0000  "
      ]
     },
     "execution_count": 93,
     "metadata": {},
     "output_type": "execute_result"
    }
   ],
   "source": [
    "infile.describe()"
   ]
  },
  {
   "cell_type": "code",
   "execution_count": null,
   "metadata": {},
   "outputs": [],
   "source": [
    "# infile.loc[ Row Selection ???, Col Selection ?? ]"
   ]
  },
  {
   "cell_type": "code",
   "execution_count": 110,
   "metadata": {},
   "outputs": [
    {
     "name": "stdout",
     "output_type": "stream",
     "text": [
      "<class 'list'> ['CarName', 'mpg', 'wt', 'am']\n",
      "<class 'list'> [0, 2, 25]\n"
     ]
    }
   ],
   "source": [
    "collist = ['CarName','mpg','wt','am']\n",
    "print( type(collist) , collist)\n",
    "rowlist = [0,2,25]\n",
    "print( type(rowlist) , rowlist)\n"
   ]
  },
  {
   "cell_type": "code",
   "execution_count": 103,
   "metadata": {},
   "outputs": [
    {
     "data": {
      "text/html": [
       "<div>\n",
       "<style scoped>\n",
       "    .dataframe tbody tr th:only-of-type {\n",
       "        vertical-align: middle;\n",
       "    }\n",
       "\n",
       "    .dataframe tbody tr th {\n",
       "        vertical-align: top;\n",
       "    }\n",
       "\n",
       "    .dataframe thead th {\n",
       "        text-align: right;\n",
       "    }\n",
       "</style>\n",
       "<table border=\"1\" class=\"dataframe\">\n",
       "  <thead>\n",
       "    <tr style=\"text-align: right;\">\n",
       "      <th></th>\n",
       "      <th>CarName</th>\n",
       "      <th>mpg</th>\n",
       "      <th>wt</th>\n",
       "    </tr>\n",
       "  </thead>\n",
       "  <tbody>\n",
       "    <tr>\n",
       "      <th>0</th>\n",
       "      <td>Mazda RX4</td>\n",
       "      <td>21.0</td>\n",
       "      <td>2.620</td>\n",
       "    </tr>\n",
       "    <tr>\n",
       "      <th>2</th>\n",
       "      <td>Datsun 710</td>\n",
       "      <td>22.8</td>\n",
       "      <td>2.320</td>\n",
       "    </tr>\n",
       "    <tr>\n",
       "      <th>25</th>\n",
       "      <td>Fiat X1-9</td>\n",
       "      <td>27.3</td>\n",
       "      <td>1.935</td>\n",
       "    </tr>\n",
       "  </tbody>\n",
       "</table>\n",
       "</div>"
      ],
      "text/plain": [
       "       CarName   mpg     wt\n",
       "0    Mazda RX4  21.0  2.620\n",
       "2   Datsun 710  22.8  2.320\n",
       "25   Fiat X1-9  27.3  1.935"
      ]
     },
     "execution_count": 103,
     "metadata": {},
     "output_type": "execute_result"
    }
   ],
   "source": [
    "# infile.loc [ : , : ]  - All Rows and all Columns\n",
    "# infile.loc [ : , collist   ]   ### - Select only carname, mpg and wt columns and all rows\n",
    "infile.loc [ rowlist , collist ] ### - Select carname, mpg and wt columns / rows \n",
    "                                 #     which has a name/index 0,2,25\n"
   ]
  },
  {
   "cell_type": "code",
   "execution_count": 115,
   "metadata": {},
   "outputs": [
    {
     "data": {
      "text/html": [
       "<div>\n",
       "<style scoped>\n",
       "    .dataframe tbody tr th:only-of-type {\n",
       "        vertical-align: middle;\n",
       "    }\n",
       "\n",
       "    .dataframe tbody tr th {\n",
       "        vertical-align: top;\n",
       "    }\n",
       "\n",
       "    .dataframe thead th {\n",
       "        text-align: right;\n",
       "    }\n",
       "</style>\n",
       "<table border=\"1\" class=\"dataframe\">\n",
       "  <thead>\n",
       "    <tr style=\"text-align: right;\">\n",
       "      <th></th>\n",
       "      <th>CarName</th>\n",
       "      <th>mpg</th>\n",
       "      <th>wt</th>\n",
       "      <th>am</th>\n",
       "    </tr>\n",
       "  </thead>\n",
       "  <tbody>\n",
       "    <tr>\n",
       "      <th>17</th>\n",
       "      <td>Fiat 128</td>\n",
       "      <td>32.4</td>\n",
       "      <td>2.200</td>\n",
       "      <td>1</td>\n",
       "    </tr>\n",
       "    <tr>\n",
       "      <th>18</th>\n",
       "      <td>Honda Civic</td>\n",
       "      <td>30.4</td>\n",
       "      <td>1.615</td>\n",
       "      <td>1</td>\n",
       "    </tr>\n",
       "    <tr>\n",
       "      <th>19</th>\n",
       "      <td>Toyota Corolla</td>\n",
       "      <td>33.9</td>\n",
       "      <td>1.835</td>\n",
       "      <td>1</td>\n",
       "    </tr>\n",
       "    <tr>\n",
       "      <th>25</th>\n",
       "      <td>Fiat X1-9</td>\n",
       "      <td>27.3</td>\n",
       "      <td>1.935</td>\n",
       "      <td>1</td>\n",
       "    </tr>\n",
       "    <tr>\n",
       "      <th>26</th>\n",
       "      <td>Porsche 914-2</td>\n",
       "      <td>26.0</td>\n",
       "      <td>2.140</td>\n",
       "      <td>1</td>\n",
       "    </tr>\n",
       "    <tr>\n",
       "      <th>27</th>\n",
       "      <td>Lotus Europa</td>\n",
       "      <td>30.4</td>\n",
       "      <td>1.513</td>\n",
       "      <td>1</td>\n",
       "    </tr>\n",
       "  </tbody>\n",
       "</table>\n",
       "</div>"
      ],
      "text/plain": [
       "           CarName   mpg     wt  am\n",
       "17        Fiat 128  32.4  2.200   1\n",
       "18     Honda Civic  30.4  1.615   1\n",
       "19  Toyota Corolla  33.9  1.835   1\n",
       "25       Fiat X1-9  27.3  1.935   1\n",
       "26   Porsche 914-2  26.0  2.140   1\n",
       "27    Lotus Europa  30.4  1.513   1"
      ]
     },
     "execution_count": 115,
     "metadata": {},
     "output_type": "execute_result"
    }
   ],
   "source": [
    "infile.loc [ infile['CarName'].str.startswith('Merc') , collist ]\n",
    "infile.loc [ infile['am']==0 , collist ]\n",
    "\n",
    "infile.loc [ infile['mpg'] > 25 , collist ]\n",
    "#### mpg > 25"
   ]
  },
  {
   "cell_type": "code",
   "execution_count": 123,
   "metadata": {},
   "outputs": [
    {
     "data": {
      "text/html": [
       "<div>\n",
       "<style scoped>\n",
       "    .dataframe tbody tr th:only-of-type {\n",
       "        vertical-align: middle;\n",
       "    }\n",
       "\n",
       "    .dataframe tbody tr th {\n",
       "        vertical-align: top;\n",
       "    }\n",
       "\n",
       "    .dataframe thead th {\n",
       "        text-align: right;\n",
       "    }\n",
       "</style>\n",
       "<table border=\"1\" class=\"dataframe\">\n",
       "  <thead>\n",
       "    <tr style=\"text-align: right;\">\n",
       "      <th></th>\n",
       "      <th>CarName</th>\n",
       "      <th>mpg</th>\n",
       "      <th>wt</th>\n",
       "      <th>am</th>\n",
       "    </tr>\n",
       "  </thead>\n",
       "  <tbody>\n",
       "    <tr>\n",
       "      <th>18</th>\n",
       "      <td>Honda Civic</td>\n",
       "      <td>30.4</td>\n",
       "      <td>1.615</td>\n",
       "      <td>1</td>\n",
       "    </tr>\n",
       "    <tr>\n",
       "      <th>19</th>\n",
       "      <td>Toyota Corolla</td>\n",
       "      <td>33.9</td>\n",
       "      <td>1.835</td>\n",
       "      <td>1</td>\n",
       "    </tr>\n",
       "    <tr>\n",
       "      <th>25</th>\n",
       "      <td>Fiat X1-9</td>\n",
       "      <td>27.3</td>\n",
       "      <td>1.935</td>\n",
       "      <td>1</td>\n",
       "    </tr>\n",
       "    <tr>\n",
       "      <th>27</th>\n",
       "      <td>Lotus Europa</td>\n",
       "      <td>30.4</td>\n",
       "      <td>1.513</td>\n",
       "      <td>1</td>\n",
       "    </tr>\n",
       "  </tbody>\n",
       "</table>\n",
       "</div>"
      ],
      "text/plain": [
       "           CarName   mpg     wt  am\n",
       "18     Honda Civic  30.4  1.615   1\n",
       "19  Toyota Corolla  33.9  1.835   1\n",
       "25       Fiat X1-9  27.3  1.935   1\n",
       "27    Lotus Europa  30.4  1.513   1"
      ]
     },
     "execution_count": 123,
     "metadata": {},
     "output_type": "execute_result"
    }
   ],
   "source": [
    "### mpg > 25 and wt < 2 tonnes\n",
    "\n",
    "infile.loc[ (infile['mpg'] > 25) & (infile['wt'] < 2 )   , collist ]"
   ]
  },
  {
   "cell_type": "code",
   "execution_count": null,
   "metadata": {},
   "outputs": [],
   "source": [
    "# How many automatic and manual cars are there in the data?\n",
    "# Vulnerable - SQL Inj, Security ,Excesses, ...)  "
   ]
  },
  {
   "cell_type": "code",
   "execution_count": 124,
   "metadata": {},
   "outputs": [
    {
     "data": {
      "text/plain": [
       "0    19\n",
       "1    13\n",
       "Name: am, dtype: int64"
      ]
     },
     "execution_count": 124,
     "metadata": {},
     "output_type": "execute_result"
    }
   ],
   "source": [
    "infile['am'].value_counts() ### select count(cars) from infile group by am"
   ]
  },
  {
   "cell_type": "code",
   "execution_count": 126,
   "metadata": {},
   "outputs": [
    {
     "data": {
      "text/plain": [
       "8    14\n",
       "4    11\n",
       "6     7\n",
       "Name: cyl, dtype: int64"
      ]
     },
     "execution_count": 126,
     "metadata": {},
     "output_type": "execute_result"
    }
   ],
   "source": [
    "infile['cyl'].value_counts() ### select count(cars) from infile group by cyl"
   ]
  },
  {
   "cell_type": "code",
   "execution_count": 132,
   "metadata": {},
   "outputs": [
    {
     "data": {
      "text/html": [
       "<div>\n",
       "<style scoped>\n",
       "    .dataframe tbody tr th:only-of-type {\n",
       "        vertical-align: middle;\n",
       "    }\n",
       "\n",
       "    .dataframe tbody tr th {\n",
       "        vertical-align: top;\n",
       "    }\n",
       "\n",
       "    .dataframe thead th {\n",
       "        text-align: right;\n",
       "    }\n",
       "</style>\n",
       "<table border=\"1\" class=\"dataframe\">\n",
       "  <thead>\n",
       "    <tr style=\"text-align: right;\">\n",
       "      <th>cyl</th>\n",
       "      <th>4</th>\n",
       "      <th>6</th>\n",
       "      <th>8</th>\n",
       "      <th>All</th>\n",
       "    </tr>\n",
       "    <tr>\n",
       "      <th>am</th>\n",
       "      <th></th>\n",
       "      <th></th>\n",
       "      <th></th>\n",
       "      <th></th>\n",
       "    </tr>\n",
       "  </thead>\n",
       "  <tbody>\n",
       "    <tr>\n",
       "      <th>0</th>\n",
       "      <td>3</td>\n",
       "      <td>4</td>\n",
       "      <td>12</td>\n",
       "      <td>19</td>\n",
       "    </tr>\n",
       "    <tr>\n",
       "      <th>1</th>\n",
       "      <td>8</td>\n",
       "      <td>3</td>\n",
       "      <td>2</td>\n",
       "      <td>13</td>\n",
       "    </tr>\n",
       "    <tr>\n",
       "      <th>All</th>\n",
       "      <td>11</td>\n",
       "      <td>7</td>\n",
       "      <td>14</td>\n",
       "      <td>32</td>\n",
       "    </tr>\n",
       "  </tbody>\n",
       "</table>\n",
       "</div>"
      ],
      "text/plain": [
       "cyl   4  6   8  All\n",
       "am                 \n",
       "0     3  4  12   19\n",
       "1     8  3   2   13\n",
       "All  11  7  14   32"
      ]
     },
     "execution_count": 132,
     "metadata": {},
     "output_type": "execute_result"
    }
   ],
   "source": [
    "# How many cars are automatic and 4 cylinders - RATHER give me all combinations of cyl and am\n",
    "### Crosstab is a generic function (need not be part of the OBJECT like infile.value_counts()\n",
    "pd.crosstab( infile['am'] , infile['cyl'] , margins=True )"
   ]
  },
  {
   "cell_type": "code",
   "execution_count": 131,
   "metadata": {},
   "outputs": [
    {
     "data": {
      "text/html": [
       "<div>\n",
       "<style scoped>\n",
       "    .dataframe tbody tr th:only-of-type {\n",
       "        vertical-align: middle;\n",
       "    }\n",
       "\n",
       "    .dataframe tbody tr th {\n",
       "        vertical-align: top;\n",
       "    }\n",
       "\n",
       "    .dataframe thead th {\n",
       "        text-align: right;\n",
       "    }\n",
       "</style>\n",
       "<table border=\"1\" class=\"dataframe\">\n",
       "  <thead>\n",
       "    <tr style=\"text-align: right;\">\n",
       "      <th>Region</th>\n",
       "      <th>East</th>\n",
       "      <th>North</th>\n",
       "      <th>South</th>\n",
       "      <th>West</th>\n",
       "      <th>All</th>\n",
       "    </tr>\n",
       "    <tr>\n",
       "      <th>Type</th>\n",
       "      <th></th>\n",
       "      <th></th>\n",
       "      <th></th>\n",
       "      <th></th>\n",
       "      <th></th>\n",
       "    </tr>\n",
       "  </thead>\n",
       "  <tbody>\n",
       "    <tr>\n",
       "      <th>Excesses</th>\n",
       "      <td>3</td>\n",
       "      <td>4</td>\n",
       "      <td>3</td>\n",
       "      <td>3</td>\n",
       "      <td>13</td>\n",
       "    </tr>\n",
       "    <tr>\n",
       "      <th>SQL</th>\n",
       "      <td>1</td>\n",
       "      <td>0</td>\n",
       "      <td>3</td>\n",
       "      <td>1</td>\n",
       "      <td>5</td>\n",
       "    </tr>\n",
       "    <tr>\n",
       "      <th>All</th>\n",
       "      <td>4</td>\n",
       "      <td>4</td>\n",
       "      <td>6</td>\n",
       "      <td>4</td>\n",
       "      <td>18</td>\n",
       "    </tr>\n",
       "  </tbody>\n",
       "</table>\n",
       "</div>"
      ],
      "text/plain": [
       "Region    East  North  South  West  All\n",
       "Type                                   \n",
       "Excesses     3      4      3     3   13\n",
       "SQL          1      0      3     1    5\n",
       "All          4      4      6     4   18"
      ]
     },
     "execution_count": 131,
     "metadata": {},
     "output_type": "execute_result"
    }
   ],
   "source": [
    "sqlfile = pd.read_csv('sql.csv')\n",
    "pd.crosstab(sqlfile['Type'],sqlfile['Region'],margins=True)"
   ]
  },
  {
   "cell_type": "code",
   "execution_count": 146,
   "metadata": {},
   "outputs": [
    {
     "data": {
      "text/html": [
       "<div>\n",
       "<style scoped>\n",
       "    .dataframe tbody tr th:only-of-type {\n",
       "        vertical-align: middle;\n",
       "    }\n",
       "\n",
       "    .dataframe tbody tr th {\n",
       "        vertical-align: top;\n",
       "    }\n",
       "\n",
       "    .dataframe thead tr th {\n",
       "        text-align: left;\n",
       "    }\n",
       "\n",
       "    .dataframe thead tr:last-of-type th {\n",
       "        text-align: right;\n",
       "    }\n",
       "</style>\n",
       "<table border=\"1\" class=\"dataframe\">\n",
       "  <thead>\n",
       "    <tr>\n",
       "      <th></th>\n",
       "      <th colspan=\"3\" halign=\"left\">max</th>\n",
       "    </tr>\n",
       "    <tr>\n",
       "      <th></th>\n",
       "      <th colspan=\"3\" halign=\"left\">mpg</th>\n",
       "    </tr>\n",
       "    <tr>\n",
       "      <th>am</th>\n",
       "      <th>0</th>\n",
       "      <th>1</th>\n",
       "      <th>All</th>\n",
       "    </tr>\n",
       "    <tr>\n",
       "      <th>cyl</th>\n",
       "      <th></th>\n",
       "      <th></th>\n",
       "      <th></th>\n",
       "    </tr>\n",
       "  </thead>\n",
       "  <tbody>\n",
       "    <tr>\n",
       "      <th>4</th>\n",
       "      <td>24.4</td>\n",
       "      <td>33.9</td>\n",
       "      <td>33.9</td>\n",
       "    </tr>\n",
       "    <tr>\n",
       "      <th>6</th>\n",
       "      <td>21.4</td>\n",
       "      <td>21.0</td>\n",
       "      <td>21.4</td>\n",
       "    </tr>\n",
       "    <tr>\n",
       "      <th>8</th>\n",
       "      <td>19.2</td>\n",
       "      <td>15.8</td>\n",
       "      <td>19.2</td>\n",
       "    </tr>\n",
       "    <tr>\n",
       "      <th>All</th>\n",
       "      <td>24.4</td>\n",
       "      <td>33.9</td>\n",
       "      <td>33.9</td>\n",
       "    </tr>\n",
       "  </tbody>\n",
       "</table>\n",
       "</div>"
      ],
      "text/plain": [
       "      max            \n",
       "      mpg            \n",
       "am      0     1   All\n",
       "cyl                  \n",
       "4    24.4  33.9  33.9\n",
       "6    21.4  21.0  21.4\n",
       "8    19.2  15.8  19.2\n",
       "All  24.4  33.9  33.9"
      ]
     },
     "execution_count": 146,
     "metadata": {},
     "output_type": "execute_result"
    }
   ],
   "source": [
    "infile.pivot_table(index=['cyl'], columns= ['am'] , values=['mpg'] , aggfunc=['max'], \n",
    "                   margins=True)"
   ]
  },
  {
   "cell_type": "code",
   "execution_count": 150,
   "metadata": {},
   "outputs": [
    {
     "data": {
      "text/html": [
       "<div>\n",
       "<style scoped>\n",
       "    .dataframe tbody tr th:only-of-type {\n",
       "        vertical-align: middle;\n",
       "    }\n",
       "\n",
       "    .dataframe tbody tr th {\n",
       "        vertical-align: top;\n",
       "    }\n",
       "\n",
       "    .dataframe thead th {\n",
       "        text-align: right;\n",
       "    }\n",
       "</style>\n",
       "<table border=\"1\" class=\"dataframe\">\n",
       "  <thead>\n",
       "    <tr style=\"text-align: right;\">\n",
       "      <th></th>\n",
       "      <th>CarName</th>\n",
       "      <th>mpg</th>\n",
       "      <th>wt</th>\n",
       "      <th>am</th>\n",
       "    </tr>\n",
       "  </thead>\n",
       "  <tbody>\n",
       "    <tr>\n",
       "      <th>0</th>\n",
       "      <td>Mazda RX4</td>\n",
       "      <td>21.0</td>\n",
       "      <td>2.62</td>\n",
       "      <td>1</td>\n",
       "    </tr>\n",
       "    <tr>\n",
       "      <th>2</th>\n",
       "      <td>Datsun 710</td>\n",
       "      <td>22.8</td>\n",
       "      <td>2.32</td>\n",
       "      <td>1</td>\n",
       "    </tr>\n",
       "    <tr>\n",
       "      <th>10</th>\n",
       "      <td>Merc 280C</td>\n",
       "      <td>17.8</td>\n",
       "      <td>3.44</td>\n",
       "      <td>0</td>\n",
       "    </tr>\n",
       "  </tbody>\n",
       "</table>\n",
       "</div>"
      ],
      "text/plain": [
       "       CarName   mpg    wt  am\n",
       "0    Mazda RX4  21.0  2.62   1\n",
       "2   Datsun 710  22.8  2.32   1\n",
       "10   Merc 280C  17.8  3.44   0"
      ]
     },
     "execution_count": 150,
     "metadata": {},
     "output_type": "execute_result"
    }
   ],
   "source": [
    "outdf = infile.loc[ [0,2,10] , collist]\n",
    "outdf.to_csv('outputmtcars.csv')"
   ]
  },
  {
   "cell_type": "code",
   "execution_count": null,
   "metadata": {},
   "outputs": [],
   "source": [
    "for i in inputfile: (100)\n",
    "    roces\n",
    "    \n",
    "    proces dsfdsv\n",
    "    sdfsdfsdf\n",
    "    sdfsdfsdf\n",
    "    if (condition) <-- 20\n",
    "       continue\n",
    "    write to another file"
   ]
  },
  {
   "cell_type": "code",
   "execution_count": 163,
   "metadata": {},
   "outputs": [],
   "source": [
    "f = open('mtcars.csv','r')\n",
    "data = f.read()\n",
    "f.close()"
   ]
  },
  {
   "cell_type": "code",
   "execution_count": 166,
   "metadata": {},
   "outputs": [
    {
     "name": "stdout",
     "output_type": "stream",
     "text": [
      "['CarName,mpg,cyl,disp,hp,drat,wt,qsec,vs,am,gear,carb', 'Datsun 710,22.8,4,108,93,3.85,2.32,18.61,1,1,4,1', 'Hornet 4 Drive,21.4,6,258,110,3.08,3.215,19.44,1,0,3,1', 'Hornet Sportabout,18.7,8,360,175,3.15,3.44,17.02,0,0,3,2', 'Valiant,18.1,6,225,105,2.76,3.46,20.22,1,0,3,1', 'Duster 360,14.3,8,360,245,3.21,3.57,15.84,0,0,3,4', 'Merc 240D,24.4,4,146.7,62,3.69,3.19,20,1,0,4,2', 'Merc 230,22.8,4,140.8,95,3.92,3.15,22.9,1,0,4,2', 'Merc 280,19.2,6,167.6,123,3.92,3.44,18.3,1,0,4,4', 'Merc 280C,17.8,6,167.6,123,3.92,3.44,18.9,1,0,4,4', 'Merc 450SE,16.4,8,275.8,180,3.07,4.07,17.4,0,0,3,3', 'Merc 450SL,17.3,8,275.8,180,3.07,3.73,17.6,0,0,3,3', 'Merc 450SLC,15.2,8,275.8,180,3.07,3.78,18,0,0,3,3', 'Cadillac Fleetwood,10.4,8,472,205,2.93,5.25,17.98,0,0,3,4', 'Lincoln Continental,10.4,8,460,215,3,5.424,17.82,0,0,3,4', 'Chrysler Imperial,14.7,8,440,230,3.23,5.345,17.42,0,0,3,4', 'Fiat 128,32.4,4,78.7,66,4.08,2.2,19.47,1,1,4,1', 'Honda Civic,30.4,4,75.7,52,4.93,1.615,18.52,1,1,4,2', 'Toyota Corolla,33.9,4,71.1,65,4.22,1.835,19.9,1,1,4,1', 'Toyota Corona,21.5,4,120.1,97,3.7,2.465,20.01,1,0,3,1', 'Dodge Challenger,15.5,8,318,150,2.76,3.52,16.87,0,0,3,2', 'AMC Javelin,15.2,8,304,150,3.15,3.435,17.3,0,0,3,2', 'Camaro Z28,13.3,8,350,245,3.73,3.84,15.41,0,0,3,4', 'Pontiac Firebird,19.2,8,400,175,3.08,3.845,17.05,0,0,3,2', 'Fiat X1-9,27.3,4,79,66,4.08,1.935,18.9,1,1,4,1', 'Porsche 914-2,26,4,120.3,91,4.43,2.14,16.7,0,1,5,2', 'Lotus Europa,30.4,4,95.1,113,3.77,1.513,16.9,1,1,5,2', 'Ford Pantera L,15.8,8,351,264,4.22,3.17,14.5,0,1,5,4', 'Ferrari Dino,19.7,6,145,175,3.62,2.77,15.5,0,1,5,6', 'Maserati Bora,15,8,301,335,3.54,3.57,14.6,0,1,5,8', 'Volvo 142E,21.4,4,121,109,4.11,2.78,18.6,1,1,4,2', '']\n"
     ]
    }
   ],
   "source": [
    "datalist = data.split('\\n')\n",
    "#print(\"Before deleting\")\n",
    "#print(datalist)\n",
    "outdatalist = []\n",
    "\n",
    "for j in datalist:\n",
    "    if (j.startswith('Mazda')):\n",
    "        continue\n",
    "    else:\n",
    "        outdatalist.append(j)\n",
    "        \n",
    "print(outdatalist)"
   ]
  },
  {
   "cell_type": "code",
   "execution_count": null,
   "metadata": {},
   "outputs": [],
   "source": []
  }
 ],
 "metadata": {
  "kernelspec": {
   "display_name": "Python 3",
   "language": "python",
   "name": "python3"
  },
  "language_info": {
   "codemirror_mode": {
    "name": "ipython",
    "version": 3
   },
   "file_extension": ".py",
   "mimetype": "text/x-python",
   "name": "python",
   "nbconvert_exporter": "python",
   "pygments_lexer": "ipython3",
   "version": "3.8.0"
  }
 },
 "nbformat": 4,
 "nbformat_minor": 4
}
