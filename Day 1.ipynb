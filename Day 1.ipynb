{
 "cells": [
  {
   "cell_type": "code",
   "execution_count": 12,
   "metadata": {},
   "outputs": [
    {
     "name": "stdout",
     "output_type": "stream",
     "text": [
      "Hello World\n"
     ]
    }
   ],
   "source": [
    "print(\"Hello World\") # Control Key + Enter    ##### Shift Key + Enter"
   ]
  },
  {
   "cell_type": "code",
   "execution_count": 26,
   "metadata": {},
   "outputs": [
    {
     "name": "stdout",
     "output_type": "stream",
     "text": [
      "Hello World\n"
     ]
    }
   ],
   "source": [
    "print('Hello World')\n",
    "emp_id = 25\n",
    "emp_id = 25\n"
   ]
  },
  {
   "cell_type": "code",
   "execution_count": 27,
   "metadata": {},
   "outputs": [],
   "source": []
  },
  {
   "cell_type": "code",
   "execution_count": 18,
   "metadata": {},
   "outputs": [
    {
     "name": "stdout",
     "output_type": "stream",
     "text": [
      "25\n"
     ]
    }
   ],
   "source": [
    "print(x)"
   ]
  },
  {
   "cell_type": "code",
   "execution_count": null,
   "metadata": {},
   "outputs": [],
   "source": [
    "j = []\n",
    "for i in j:\n",
    "    step1\n",
    "    step2\n",
    "    step3\n",
    "    step4"
   ]
  },
  {
   "cell_type": "code",
   "execution_count": null,
   "metadata": {},
   "outputs": [],
   "source": [
    "# Comment  Case Sensitive <---"
   ]
  },
  {
   "cell_type": "code",
   "execution_count": 19,
   "metadata": {},
   "outputs": [
    {
     "ename": "NameError",
     "evalue": "name 'X' is not defined",
     "output_type": "error",
     "traceback": [
      "\u001b[1;31m---------------------------------------------------------------------------\u001b[0m",
      "\u001b[1;31mNameError\u001b[0m                                 Traceback (most recent call last)",
      "\u001b[1;32m<ipython-input-19-b5fec669aca1>\u001b[0m in \u001b[0;36m<module>\u001b[1;34m\u001b[0m\n\u001b[1;32m----> 1\u001b[1;33m \u001b[0mX\u001b[0m\u001b[1;33m\u001b[0m\u001b[1;33m\u001b[0m\u001b[0m\n\u001b[0m",
      "\u001b[1;31mNameError\u001b[0m: name 'X' is not defined"
     ]
    }
   ],
   "source": [
    "emp_id "
   ]
  },
  {
   "cell_type": "code",
   "execution_count": 40,
   "metadata": {},
   "outputs": [
    {
     "data": {
      "text/plain": [
       "float"
      ]
     },
     "execution_count": 40,
     "metadata": {},
     "output_type": "execute_result"
    }
   ],
   "source": [
    "z = 20.2\n",
    "type(z)"
   ]
  },
  {
   "cell_type": "code",
   "execution_count": 41,
   "metadata": {},
   "outputs": [
    {
     "name": "stdout",
     "output_type": "stream",
     "text": [
      "<class 'float'>\n"
     ]
    }
   ],
   "source": [
    "print(type(z))"
   ]
  },
  {
   "cell_type": "code",
   "execution_count": 33,
   "metadata": {},
   "outputs": [
    {
     "name": "stdout",
     "output_type": "stream",
     "text": [
      "20.2\n"
     ]
    }
   ],
   "source": [
    "print(z) # This is a comment"
   ]
  },
  {
   "cell_type": "code",
   "execution_count": 44,
   "metadata": {},
   "outputs": [
    {
     "name": "stdout",
     "output_type": "stream",
     "text": [
      "Hello\n",
      "<class 'str'>\n",
      "HelloWorld\n"
     ]
    }
   ],
   "source": [
    "str1 = \"Hello\"\n",
    "print(str1)\n",
    "print(type(str1))\n",
    "\n",
    "str2 = str1 + \"World\"\n",
    "print(str2)"
   ]
  },
  {
   "cell_type": "code",
   "execution_count": 50,
   "metadata": {},
   "outputs": [
    {
     "data": {
      "text/plain": [
       "'llo'"
      ]
     },
     "execution_count": 50,
     "metadata": {},
     "output_type": "execute_result"
    }
   ],
   "source": [
    "str2[2:5] ### 5 is not number of characters ---> 5 - 1 = element id 4"
   ]
  },
  {
   "cell_type": "code",
   "execution_count": 55,
   "metadata": {},
   "outputs": [
    {
     "data": {
      "text/plain": [
       "'World'"
      ]
     },
     "execution_count": 55,
     "metadata": {},
     "output_type": "execute_result"
    }
   ],
   "source": [
    "str2[-5:]"
   ]
  },
  {
   "cell_type": "code",
   "execution_count": 62,
   "metadata": {},
   "outputs": [
    {
     "data": {
      "text/plain": [
       "datetime.datetime(2020, 5, 29, 0, 0)"
      ]
     },
     "execution_count": 62,
     "metadata": {},
     "output_type": "execute_result"
    }
   ],
   "source": [
    "import datetime ###(Class - Method)\n",
    "\n",
    "datechr = \"29-May-2020\"\n",
    "type(datechr)\n",
    "\n",
    "## Generic Method written inside a class - You dont need to create an instance of the class- directly use the func\n",
    "## \n",
    "datetime.datetime.strptime(datechr , '%d-%b-%Y')"
   ]
  },
  {
   "cell_type": "code",
   "execution_count": 66,
   "metadata": {},
   "outputs": [
    {
     "name": "stdout",
     "output_type": "stream",
     "text": [
      "<class 'datetime.datetime'>\n"
     ]
    }
   ],
   "source": [
    "datechr = \"10/25/1945\"\n",
    "date1 = datetime.datetime.strptime(datechr ,'%m/%d/%Y' )\n",
    "print(type(date1))"
   ]
  },
  {
   "cell_type": "code",
   "execution_count": 68,
   "metadata": {},
   "outputs": [
    {
     "data": {
      "text/plain": [
       "datetime.datetime(1945, 10, 25, 0, 0)"
      ]
     },
     "execution_count": 68,
     "metadata": {},
     "output_type": "execute_result"
    }
   ],
   "source": [
    "from datetime import datetime as dt    # from datetime package (1) import datetime class and give it a nickname dt\n",
    "dt.strptime(datechr ,'%m/%d/%Y')"
   ]
  },
  {
   "cell_type": "code",
   "execution_count": 71,
   "metadata": {},
   "outputs": [],
   "source": [
    "datechr = \"01/01/45\"   ### Is this 1945? or is it 2045?  - WATCH OUT for LOWER CASE %y\n",
    "## if the year field < 69 (00 to 68 - attach 20XX ) \n",
    "#  if the year field > 68 (69 to 99) - attach 19XX)\n",
    "date1 = dt.strptime(datechr ,'%m/%d/%y')"
   ]
  },
  {
   "cell_type": "code",
   "execution_count": 70,
   "metadata": {},
   "outputs": [
    {
     "name": "stdout",
     "output_type": "stream",
     "text": [
      "2068-12-31 00:00:00\n",
      "1969-01-01 00:00:00\n"
     ]
    }
   ],
   "source": [
    "datechr1 = \"12/31/68\" \n",
    "datechr2 = \"01/01/69\"\n",
    "print ( dt.strptime(datechr1 ,'%m/%d/%y') )\n",
    "print ( dt.strptime(datechr2 ,'%m/%d/%y') )"
   ]
  },
  {
   "cell_type": "code",
   "execution_count": 73,
   "metadata": {},
   "outputs": [
    {
     "data": {
      "text/plain": [
       "datetime.datetime(1969, 1, 1, 0, 0)"
      ]
     },
     "execution_count": 73,
     "metadata": {},
     "output_type": "execute_result"
    }
   ],
   "source": [
    "date2 = dt.strptime(datechr2 ,'%m/%d/%y')\n",
    "date2"
   ]
  },
  {
   "cell_type": "code",
   "execution_count": 77,
   "metadata": {
    "scrolled": true
   },
   "outputs": [
    {
     "data": {
      "text/plain": [
       "'January Wednesday 1969 01 00'"
      ]
     },
     "execution_count": 77,
     "metadata": {},
     "output_type": "execute_result"
    }
   ],
   "source": [
    "#### dt.strftime() <---- \n",
    "date2.strftime('%B %A %Y %m %W')   # date2 is an intance of a class (datetime) - It is an object / can have a method - strftime"
   ]
  },
  {
   "cell_type": "code",
   "execution_count": 89,
   "metadata": {},
   "outputs": [
    {
     "data": {
      "text/plain": [
       "['23rd', 'Jan', '2021']"
      ]
     },
     "execution_count": 89,
     "metadata": {},
     "output_type": "execute_result"
    }
   ],
   "source": [
    "datechar = '23rd Jan 2021'\n",
    "list1 = datechar.split()\n",
    "list1"
   ]
  },
  {
   "cell_type": "code",
   "execution_count": 90,
   "metadata": {},
   "outputs": [
    {
     "data": {
      "text/plain": [
       "'23'"
      ]
     },
     "execution_count": 90,
     "metadata": {},
     "output_type": "execute_result"
    }
   ],
   "source": [
    "list1[0][0:-2]"
   ]
  },
  {
   "cell_type": "code",
   "execution_count": 91,
   "metadata": {},
   "outputs": [
    {
     "data": {
      "text/plain": [
       "['EEID-X1234', 'Manoj', 23, datetime.datetime(1999, 12, 12, 0, 0)]"
      ]
     },
     "execution_count": 91,
     "metadata": {},
     "output_type": "execute_result"
    }
   ],
   "source": [
    "list1=['EEID-X1234','Manoj',23,dt.strptime('1999-12-12','%Y-%m-%d')]\n",
    "list1"
   ]
  },
  {
   "cell_type": "code",
   "execution_count": null,
   "metadata": {},
   "outputs": [],
   "source": [
    "list2 = [20%,30%,50%,100%]"
   ]
  },
  {
   "cell_type": "code",
   "execution_count": null,
   "metadata": {},
   "outputs": [],
   "source": []
  },
  {
   "cell_type": "code",
   "execution_count": null,
   "metadata": {},
   "outputs": [],
   "source": []
  },
  {
   "cell_type": "code",
   "execution_count": null,
   "metadata": {},
   "outputs": [],
   "source": []
  },
  {
   "cell_type": "code",
   "execution_count": null,
   "metadata": {},
   "outputs": [],
   "source": []
  },
  {
   "cell_type": "code",
   "execution_count": null,
   "metadata": {},
   "outputs": [],
   "source": []
  },
  {
   "cell_type": "code",
   "execution_count": null,
   "metadata": {},
   "outputs": [],
   "source": []
  },
  {
   "cell_type": "code",
   "execution_count": null,
   "metadata": {},
   "outputs": [],
   "source": []
  },
  {
   "cell_type": "code",
   "execution_count": 99,
   "metadata": {},
   "outputs": [],
   "source": [
    "list1 = [110,123,114,71,113,98,88,79,97]"
   ]
  },
  {
   "cell_type": "code",
   "execution_count": 100,
   "metadata": {},
   "outputs": [
    {
     "data": {
      "text/plain": [
       "[110, 123, 114, 71, 113, 98, 88, 79, 97]"
      ]
     },
     "execution_count": 100,
     "metadata": {},
     "output_type": "execute_result"
    }
   ],
   "source": [
    "list1"
   ]
  },
  {
   "cell_type": "code",
   "execution_count": 96,
   "metadata": {},
   "outputs": [
    {
     "data": {
      "text/plain": [
       "98"
      ]
     },
     "execution_count": 96,
     "metadata": {},
     "output_type": "execute_result"
    }
   ],
   "source": [
    "list1[5] # Extract specific elements"
   ]
  },
  {
   "cell_type": "code",
   "execution_count": 102,
   "metadata": {},
   "outputs": [
    {
     "name": "stdout",
     "output_type": "stream",
     "text": [
      "[123, 114, 113, 110, 98, 97, 88, 79, 71]\n"
     ]
    }
   ],
   "source": [
    "list1.sort(reverse=True)\n",
    "print(list1)"
   ]
  },
  {
   "cell_type": "code",
   "execution_count": 103,
   "metadata": {},
   "outputs": [
    {
     "name": "stdout",
     "output_type": "stream",
     "text": [
      "[123, 114, 113, 110, 98, 97, 88, 79, 71, 2000]\n"
     ]
    }
   ],
   "source": [
    "list1.append(2000)\n",
    "print(list1)"
   ]
  },
  {
   "cell_type": "code",
   "execution_count": 105,
   "metadata": {},
   "outputs": [
    {
     "name": "stdout",
     "output_type": "stream",
     "text": [
      "[123, 114, 113, 98, 97, 88, 79, 71, 2000]\n"
     ]
    }
   ],
   "source": [
    "list1.remove(110)\n",
    "print(list1)"
   ]
  },
  {
   "cell_type": "code",
   "execution_count": 106,
   "metadata": {},
   "outputs": [],
   "source": [
    "import re"
   ]
  },
  {
   "cell_type": "code",
   "execution_count": 139,
   "metadata": {},
   "outputs": [],
   "source": []
  },
  {
   "cell_type": "code",
   "execution_count": 140,
   "metadata": {},
   "outputs": [
    {
     "name": "stdout",
     "output_type": "stream",
     "text": [
      "<class 're.Match'>\n",
      "I found the string\n",
      "(59, 65)\n"
     ]
    }
   ],
   "source": [
    "str1 = \"There is a problem with the http://somethin/ABCDEF because of SQL injection.\"\n",
    "str2 = \"blah blah .... There is a problem with the http://somethin/ABCDEF .\"\n",
    "\n",
    "results = re.search(\"ABCDEF\",str2)\n",
    "print(type(results))\n",
    "\n",
    "if (results):\n",
    "    print(\"I found the string\")\n",
    "    print( results.span() )\n",
    "else:\n",
    "    print(\"I did not find\")\n",
    "\n"
   ]
  },
  {
   "cell_type": "code",
   "execution_count": 120,
   "metadata": {},
   "outputs": [
    {
     "name": "stdout",
     "output_type": "stream",
     "text": [
      "<class 'NoneType'>\n"
     ]
    },
    {
     "ename": "AttributeError",
     "evalue": "'NoneType' object has no attribute 'span'",
     "output_type": "error",
     "traceback": [
      "\u001b[1;31m---------------------------------------------------------------------------\u001b[0m",
      "\u001b[1;31mAttributeError\u001b[0m                            Traceback (most recent call last)",
      "\u001b[1;32m<ipython-input-120-ca4fac4c1f01>\u001b[0m in \u001b[0;36m<module>\u001b[1;34m\u001b[0m\n\u001b[0;32m      4\u001b[0m \u001b[1;31m## Starting with ---> ^   Ending with ---> $          contains .*\u001b[0m\u001b[1;33m\u001b[0m\u001b[1;33m\u001b[0m\u001b[1;33m\u001b[0m\u001b[0m\n\u001b[0;32m      5\u001b[0m \u001b[0mprint\u001b[0m \u001b[1;33m(\u001b[0m\u001b[0mtype\u001b[0m\u001b[1;33m(\u001b[0m\u001b[0mresults\u001b[0m\u001b[1;33m)\u001b[0m\u001b[1;33m)\u001b[0m \u001b[1;31m# Very complex object that we dont care\u001b[0m\u001b[1;33m\u001b[0m\u001b[1;33m\u001b[0m\u001b[0m\n\u001b[1;32m----> 6\u001b[1;33m \u001b[0mprint\u001b[0m\u001b[1;33m(\u001b[0m \u001b[0mresults\u001b[0m\u001b[1;33m.\u001b[0m\u001b[0mspan\u001b[0m\u001b[1;33m(\u001b[0m\u001b[1;33m)\u001b[0m \u001b[1;33m)\u001b[0m\u001b[1;33m\u001b[0m\u001b[1;33m\u001b[0m\u001b[0m\n\u001b[0m\u001b[0;32m      7\u001b[0m \u001b[1;31m#print( results.string )\u001b[0m\u001b[1;33m\u001b[0m\u001b[1;33m\u001b[0m\u001b[1;33m\u001b[0m\u001b[0m\n\u001b[0;32m      8\u001b[0m \u001b[0mprint\u001b[0m\u001b[1;33m(\u001b[0m \u001b[0mresults\u001b[0m\u001b[1;33m.\u001b[0m\u001b[0mgroup\u001b[0m\u001b[1;33m(\u001b[0m\u001b[1;33m)\u001b[0m \u001b[1;33m)\u001b[0m\u001b[1;33m\u001b[0m\u001b[1;33m\u001b[0m\u001b[0m\n",
      "\u001b[1;31mAttributeError\u001b[0m: 'NoneType' object has no attribute 'span'"
     ]
    }
   ],
   "source": [
    "str1 = \"There is a problem with the screen ABCDEF because of SQL injection\"\n",
    "\n",
    "results = re.search(\"^SQL\",str1) ### Starting with something, ending with something, contains something,\n",
    "## Starting with ---> ^   Ending with ---> $          contains .*\n",
    "print (type(results)) # Very complex object that we dont care\n",
    "print( results.span() )\n",
    "#print( results.string )\n",
    "print( results.group() )"
   ]
  },
  {
   "cell_type": "code",
   "execution_count": 7,
   "metadata": {},
   "outputs": [
    {
     "name": "stdout",
     "output_type": "stream",
     "text": [
      ".RhistoryFalse\n",
      "Attrition.csvTrue\n",
      "BankLoan.csvTrue\n",
      "boston.csvTrue\n",
      "Copy of UC4 - Copy of Assignment 1 (Shameer)(15145)(16208).xlsFalse\n",
      "helpdesk.csvTrue\n",
      "mtcars.csvTrue\n",
      "Regression mtcars.xlsxFalse\n",
      "Rplot.pngFalse\n",
      "telecom_churn.csvTrue\n"
     ]
    }
   ],
   "source": [
    "import os\n",
    "os.chdir(r'D:\\Python Training\\ML\\Dataset')\n",
    "l1 = os.listdir()\n",
    "for j in l1:\n",
    "    print(j + str(j.endswith('.csv')))"
   ]
  },
  {
   "cell_type": "code",
   "execution_count": 28,
   "metadata": {},
   "outputs": [],
   "source": [
    "file = open(r'D:\\Python Training\\ML\\Dataset\\BankLoan.csv','r')"
   ]
  },
  {
   "cell_type": "code",
   "execution_count": 25,
   "metadata": {},
   "outputs": [],
   "source": [
    "x = file.readline()"
   ]
  },
  {
   "cell_type": "code",
   "execution_count": 26,
   "metadata": {},
   "outputs": [
    {
     "data": {
      "text/plain": [
       "str"
      ]
     },
     "execution_count": 26,
     "metadata": {},
     "output_type": "execute_result"
    }
   ],
   "source": [
    "type(x)"
   ]
  },
  {
   "cell_type": "code",
   "execution_count": 27,
   "metadata": {},
   "outputs": [
    {
     "data": {
      "text/plain": [
       "',,Rejected,Approved,,Grand Total,,,,SPAM,HAM,,\\n'"
      ]
     },
     "execution_count": 27,
     "metadata": {},
     "output_type": "execute_result"
    }
   ],
   "source": [
    "x"
   ]
  },
  {
   "cell_type": "code",
   "execution_count": 29,
   "metadata": {},
   "outputs": [
    {
     "name": "stdout",
     "output_type": "stream",
     "text": [
      ",,Rejected,Approved,,Grand Total,,,,SPAM,HAM,,\n",
      "\n",
      ",Female,22,16,,38,0.421052632,41,30,10%,90%,Marginal,\n",
      "\n",
      ",Male,35,27,,62,0.435483871,44,35,Lottery,,,\n",
      "\n",
      ",,,,,,,,,20%,Conditional,,\n",
      "\n",
      ",Grand Total,57,43,,100,,,,,,,\n",
      "\n",
      ",,,,,,,,,,,,\n",
      "\n",
      ",,,,,,,,,,,Proportion,Probability\n",
      "\n",
      ",Question 1,What % of people are male and loan is approved,,,,,,27%,,Joint,,\n",
      "\n",
      ",Question 2,\"Given a loan is approved, what % represents female\",,,,,,37%,,Conditional,,\n",
      "\n",
      ",Question 3,What % of people is loans being approved in general,,,,,,43%,,Marginal ,,\n",
      "\n",
      ",Question 3,What % of people are females,,,,,,38%,,Marginal ,,\n",
      "\n",
      ",Question 2,Given it is a male what % represents Rejections,,,,,,56%,,Conditional,,\n",
      "\n",
      ",,,,,,,,,,,,\n",
      "\n",
      ",,,,,,,,,,,,\n",
      "\n",
      ",Reality,Rejected,Approved,,,,,Male / Female,,,,\n",
      "\n",
      ",Female,22,16,,,,,Approval,,,,\n",
      "\n",
      ",Male,35,27,,>0.05,,,,,,,\n",
      "\n",
      ",,,,,0.887484437,,,,,,,\n",
      "\n",
      ",,,,,,,,,,,,\n",
      "\n",
      "Expected,Female,21.66,16.34,,,,,,,,,\n",
      "\n",
      ",Male,35.34,26.66,,,,,,,,,\n",
      "\n"
     ]
    }
   ],
   "source": [
    "for x in file:\n",
    "  print(x) "
   ]
  }
 ],
 "metadata": {
  "kernelspec": {
   "display_name": "Python 3",
   "language": "python",
   "name": "python3"
  },
  "language_info": {
   "codemirror_mode": {
    "name": "ipython",
    "version": 3
   },
   "file_extension": ".py",
   "mimetype": "text/x-python",
   "name": "python",
   "nbconvert_exporter": "python",
   "pygments_lexer": "ipython3",
   "version": "3.8.0"
  }
 },
 "nbformat": 4,
 "nbformat_minor": 4
}
