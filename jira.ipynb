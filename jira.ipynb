{
 "cells": [
  {
   "cell_type": "code",
   "execution_count": 1,
   "metadata": {},
   "outputs": [],
   "source": [
    "from jira import JIRA\n",
    "jira = JIRA('https://jira.atlassian.com')\n",
    "#gSZ1op59wRtcoHzsahgQ0B80"
   ]
  },
  {
   "cell_type": "code",
   "execution_count": 1,
   "metadata": {},
   "outputs": [],
   "source": [
    "\n",
    "from jira import JIRA\n",
    "\n",
    "options = {'server': 'https://myaccount.atlassian.net'}\n",
    "jira = JIRA(options, basic_auth=('karthik.siva@voksedigital.com', 'secret access key'))\n",
    "\n",
    "#issue = jira.issue('JRA-9')\n",
    "\n",
    "#print(issue.fields.project.key)\n",
    "#print(issue.fields.issuetype.name)\n",
    "#print(issue.fields.reporter.displayName)\n",
    "#print(issue.fields.summary)\n",
    "#print(issue.fields.project.id)\n",
    "\n",
    "        \n"
   ]
  }
 ],
 "metadata": {
  "kernelspec": {
   "display_name": "Python 3",
   "language": "python",
   "name": "python3"
  },
  "language_info": {
   "codemirror_mode": {
    "name": "ipython",
    "version": 3
   },
   "file_extension": ".py",
   "mimetype": "text/x-python",
   "name": "python",
   "nbconvert_exporter": "python",
   "pygments_lexer": "ipython3",
   "version": "3.8.0"
  }
 },
 "nbformat": 4,
 "nbformat_minor": 4
}
