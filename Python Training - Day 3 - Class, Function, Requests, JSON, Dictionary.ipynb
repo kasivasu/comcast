{
 "cells": [
  {
   "cell_type": "code",
   "execution_count": 7,
   "metadata": {},
   "outputs": [],
   "source": [
    "import pandas as pd\n",
    "import os\n",
    "os.chdir(r'D:\\Voksebkp\\Clients\\Comcast\\Datasets')"
   ]
  },
  {
   "cell_type": "code",
   "execution_count": null,
   "metadata": {},
   "outputs": [],
   "source": [
    "#!pip install xlrd"
   ]
  },
  {
   "cell_type": "code",
   "execution_count": 8,
   "metadata": {},
   "outputs": [],
   "source": [
    "eefile   = pd.read_excel('File1.xls',sheet_name=\"EEID\")\n",
    "projfile = pd.read_excel('File1.xls',sheet_name=\"Projects\")"
   ]
  },
  {
   "cell_type": "code",
   "execution_count": 9,
   "metadata": {},
   "outputs": [
    {
     "data": {
      "text/html": [
       "<div>\n",
       "<style scoped>\n",
       "    .dataframe tbody tr th:only-of-type {\n",
       "        vertical-align: middle;\n",
       "    }\n",
       "\n",
       "    .dataframe tbody tr th {\n",
       "        vertical-align: top;\n",
       "    }\n",
       "\n",
       "    .dataframe thead th {\n",
       "        text-align: right;\n",
       "    }\n",
       "</style>\n",
       "<table border=\"1\" class=\"dataframe\">\n",
       "  <thead>\n",
       "    <tr style=\"text-align: right;\">\n",
       "      <th></th>\n",
       "      <th>Project ID</th>\n",
       "      <th>Employee</th>\n",
       "      <th>Project Name</th>\n",
       "      <th>Location</th>\n",
       "    </tr>\n",
       "  </thead>\n",
       "  <tbody>\n",
       "    <tr>\n",
       "      <th>0</th>\n",
       "      <td>1001</td>\n",
       "      <td>E1</td>\n",
       "      <td>P1</td>\n",
       "      <td>R1</td>\n",
       "    </tr>\n",
       "    <tr>\n",
       "      <th>1</th>\n",
       "      <td>1002</td>\n",
       "      <td>E2</td>\n",
       "      <td>P2</td>\n",
       "      <td>R1</td>\n",
       "    </tr>\n",
       "  </tbody>\n",
       "</table>\n",
       "</div>"
      ],
      "text/plain": [
       "   Project ID Employee Project Name Location\n",
       "0        1001       E1           P1       R1\n",
       "1        1002       E2           P2       R1"
      ]
     },
     "execution_count": 9,
     "metadata": {},
     "output_type": "execute_result"
    }
   ],
   "source": [
    "projfile.head(2)"
   ]
  },
  {
   "cell_type": "code",
   "execution_count": null,
   "metadata": {},
   "outputs": [],
   "source": [
    "eefile.info()\n",
    "projfile.info()"
   ]
  },
  {
   "cell_type": "code",
   "execution_count": null,
   "metadata": {},
   "outputs": [],
   "source": [
    "mergfile = eefile.merge(projfile,left_on=\"EEID\",right_on=\"Employee\",how=\"inner\")\n",
    "print(mergfile)"
   ]
  },
  {
   "cell_type": "code",
   "execution_count": null,
   "metadata": {},
   "outputs": [],
   "source": [
    "mergfile = eefile.merge(projfile,left_on=\"EEID\",right_on=\"Employee\",how=\"left\")\n",
    "#mergfile\n",
    "mergfile = projfile.merge(eefile,left_on=\"EEID\",right_on=\"Employee\",how=\"right\")\n"
   ]
  },
  {
   "cell_type": "code",
   "execution_count": null,
   "metadata": {},
   "outputs": [],
   "source": [
    "mergfile = eefile.merge(projfile,left_on=\"EEID\",right_on=\"Employee\",how=\"right\")\n",
    "#mergfile"
   ]
  },
  {
   "cell_type": "code",
   "execution_count": null,
   "metadata": {},
   "outputs": [],
   "source": [
    "mergfile = eefile.merge(projfile,left_on=\"EEID\",right_on=\"Employee\",how=\"outer\")\n",
    "#mergfile"
   ]
  },
  {
   "cell_type": "code",
   "execution_count": null,
   "metadata": {},
   "outputs": [],
   "source": [
    "dict1 = {\n",
    "    'Name' : 'Karthik',\n",
    "    'Location' : 'Chennai'\n",
    "}"
   ]
  },
  {
   "cell_type": "code",
   "execution_count": null,
   "metadata": {},
   "outputs": [],
   "source": [
    "type(dict1)"
   ]
  },
  {
   "cell_type": "code",
   "execution_count": null,
   "metadata": {},
   "outputs": [],
   "source": [
    "dict1.keys()"
   ]
  },
  {
   "cell_type": "code",
   "execution_count": null,
   "metadata": {},
   "outputs": [],
   "source": [
    "dict1.values()"
   ]
  },
  {
   "cell_type": "code",
   "execution_count": null,
   "metadata": {},
   "outputs": [],
   "source": [
    "dict1['Name']"
   ]
  },
  {
   "cell_type": "code",
   "execution_count": null,
   "metadata": {},
   "outputs": [],
   "source": [
    "dict1['Age'] = 45"
   ]
  },
  {
   "cell_type": "code",
   "execution_count": null,
   "metadata": {},
   "outputs": [],
   "source": [
    "dict1"
   ]
  },
  {
   "cell_type": "code",
   "execution_count": null,
   "metadata": {},
   "outputs": [],
   "source": [
    "import json\n",
    "#json_loads  ### s stands for string - converting string into python/dictionary\n",
    "#json_dumps\n",
    "#json_load   ### if the last letter is not s, it means a json file is read directly into dictionary \n",
    "#json_dump"
   ]
  },
  {
   "cell_type": "code",
   "execution_count": null,
   "metadata": {},
   "outputs": [],
   "source": [
    "import json\n",
    "\n",
    "str1 = '{\"Name\": \"Karthik\", \"Location\": \"Chennai\", \"Age\": \"45\"}'\n",
    "print(str1,type(str1))\n",
    "outdict = json.loads(str1)\n",
    "print(outdict,type(outdict))"
   ]
  },
  {
   "cell_type": "code",
   "execution_count": null,
   "metadata": {},
   "outputs": [],
   "source": [
    "for i in outdict.keys():\n",
    "    print(outdict[i])\n"
   ]
  },
  {
   "cell_type": "code",
   "execution_count": null,
   "metadata": {},
   "outputs": [],
   "source": [
    "import requests\n",
    "r = requests.get('https://api.github.com/events')\n",
    "r = requests.request('POST','https://api.github.com/events')"
   ]
  },
  {
   "cell_type": "code",
   "execution_count": null,
   "metadata": {},
   "outputs": [],
   "source": [
    "out = r.json()\n",
    "print( type(out) ) #### list of dictionary/json records - list of 30 events (json/dict)\n",
    "print( len(out) ) ### How many elements are there"
   ]
  },
  {
   "cell_type": "code",
   "execution_count": null,
   "metadata": {},
   "outputs": [],
   "source": [
    "#firstevent"
   ]
  },
  {
   "cell_type": "code",
   "execution_count": null,
   "metadata": {},
   "outputs": [],
   "source": [
    "firstevent = out[0]\n",
    "print(type(firstevent))\n",
    "print( firstevent )\n",
    "\n",
    "print( firstevent.keys() )\n",
    "print ( firstevent['repo']['url'] )\n",
    "#firstevent"
   ]
  },
  {
   "cell_type": "code",
   "execution_count": null,
   "metadata": {},
   "outputs": [],
   "source": [
    "from datetime import datetime as dt\n",
    "\n",
    "def addmerge(a,b):\n",
    "    return (a + b)\n",
    "    \n",
    "    \n",
    "def converttolist(a):\n",
    "    return a.split()"
   ]
  },
  {
   "cell_type": "code",
   "execution_count": 6,
   "metadata": {},
   "outputs": [],
   "source": [
    "import sys"
   ]
  },
  {
   "cell_type": "markdown",
   "metadata": {},
   "source": [
    "Create any program with.py extension in any folder of your choice and put the following content inside\n",
    "\n",
    "\n",
    "def addmerge(a,b):\n",
    "    return (a + b)\n",
    "    \n",
    "def converttolist(a):\n",
    "    return a.split()"
   ]
  },
  {
   "cell_type": "code",
   "execution_count": null,
   "metadata": {},
   "outputs": [],
   "source": [
    "import sys"
   ]
  },
  {
   "cell_type": "code",
   "execution_count": 2,
   "metadata": {},
   "outputs": [],
   "source": [
    "sys.path.append(r'D:\\Python Training\\Functions')"
   ]
  },
  {
   "cell_type": "code",
   "execution_count": 5,
   "metadata": {},
   "outputs": [
    {
     "name": "stdout",
     "output_type": "stream",
     "text": [
      "30\n"
     ]
    },
    {
     "data": {
      "text/plain": [
       "['Hello', 'how', 'are', 'you']"
      ]
     },
     "execution_count": 5,
     "metadata": {},
     "output_type": "execute_result"
    }
   ],
   "source": [
    "import CustFunc as cf ### CustFunc can be replaced with your program name without .py\n",
    "\n",
    "out = cf.addmerge(10,20)\n",
    "print(out)\n",
    "\n",
    "out2 = cf.converttolist(\"Hello how are you\")\n",
    "out2"
   ]
  },
  {
   "cell_type": "code",
   "execution_count": null,
   "metadata": {},
   "outputs": [],
   "source": [
    "out = addnumbers(10,20)\n",
    "print(out)\n",
    "\n",
    "out = addnumbers(\"Hello \",\"World\")\n",
    "print(out)\n"
   ]
  },
  {
   "cell_type": "code",
   "execution_count": 29,
   "metadata": {},
   "outputs": [],
   "source": [
    "from datetime import datetime as dt\n",
    "\n",
    "class Employee:\n",
    "    from datetime import datetime as dt\n",
    "    def __init__(self,eeid,name,dob,gender,hiredate):\n",
    "        self.employeeid = eeid\n",
    "        self.employeename = name\n",
    "        self.employeedob = dob\n",
    "        self.employeegender=gender\n",
    "        self.employeehiredate=hiredate\n",
    "        \n",
    "    def getage(self):\n",
    "        currentdate = dt.now()\n",
    "        dobdate = dt.strptime(self.employeedob,'%Y-%m-%d')\n",
    "        age = currentdate - dobdate\n",
    "        return age.days / 365.25\n",
    "        \n",
    "        \n",
    "    def getleavetype(self):\n",
    "        if (self.employeegender=='Male'):\n",
    "            return 'Paternity Leave'\n",
    "        else:\n",
    "            return 'Maternity Leave'\n",
    "\n",
    "    def geteligibility(self):\n",
    "        if (self.employeegender=='Male'):\n",
    "            return 'Paternity Leave'\n",
    "        else:\n",
    "            return 'Maternity Leave'        "
   ]
  },
  {
   "cell_type": "code",
   "execution_count": 27,
   "metadata": {},
   "outputs": [
    {
     "data": {
      "text/plain": [
       "'Maternity Leave'"
      ]
     },
     "execution_count": 27,
     "metadata": {},
     "output_type": "execute_result"
    }
   ],
   "source": [
    "e1 = Employee('1234','Swaminathan','2000-12-31','Female','2020-01-01')\n",
    "e1.getage()\n",
    "e1.getleavetype()"
   ]
  },
  {
   "cell_type": "code",
   "execution_count": 32,
   "metadata": {},
   "outputs": [
    {
     "data": {
      "text/plain": [
       "'Maternity Leave'"
      ]
     },
     "execution_count": 32,
     "metadata": {},
     "output_type": "execute_result"
    }
   ],
   "source": [
    "e2 = Employee('55566','Amy','1997-12-15','Female','2014-05-01')\n",
    "e2.getage()\n",
    "e2.getleavetype()"
   ]
  }
 ],
 "metadata": {
  "kernelspec": {
   "display_name": "Python 3",
   "language": "python",
   "name": "python3"
  },
  "language_info": {
   "codemirror_mode": {
    "name": "ipython",
    "version": 3
   },
   "file_extension": ".py",
   "mimetype": "text/x-python",
   "name": "python",
   "nbconvert_exporter": "python",
   "pygments_lexer": "ipython3",
   "version": "3.8.0"
  }
 },
 "nbformat": 4,
 "nbformat_minor": 4
}
